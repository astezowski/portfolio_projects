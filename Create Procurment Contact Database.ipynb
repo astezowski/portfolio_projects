{
 "cells": [
  {
   "cell_type": "code",
   "execution_count": 482,
   "id": "8968c6e7-06e8-4b3e-95b8-5e7cd18e6d10",
   "metadata": {},
   "outputs": [],
   "source": [
    "import sqlite3"
   ]
  },
  {
   "cell_type": "code",
   "execution_count": 483,
   "id": "ffa4f42d-b128-46db-bc32-66d393c2290a",
   "metadata": {},
   "outputs": [],
   "source": [
    "import datetime "
   ]
  },
  {
   "cell_type": "code",
   "execution_count": 484,
   "id": "4079021e-b2b7-4b33-ae72-954dc667bdb8",
   "metadata": {},
   "outputs": [],
   "source": [
    "#defining the table "
   ]
  },
  {
   "cell_type": "code",
   "execution_count": 485,
   "id": "09fb831a-4fd7-4616-8832-8c7ec0376535",
   "metadata": {},
   "outputs": [],
   "source": [
    "conn = sqlite3.connect('procurement.db')\n",
    "cursor = conn.cursor()\n"
   ]
  },
  {
   "cell_type": "code",
   "execution_count": 486,
   "id": "12da72b5-4d5f-43c5-88a5-65837488a22d",
   "metadata": {},
   "outputs": [
    {
     "data": {
      "text/plain": [
       "<sqlite3.Cursor at 0x1454adfc0>"
      ]
     },
     "execution_count": 486,
     "metadata": {},
     "output_type": "execute_result"
    }
   ],
   "source": [
    "cursor.execute('''\n",
    "CREATE TABLE IF NOT EXISTS vendors(\n",
    "    Vendor_ID INTEGER PRIMARY KEY,\n",
    "    Vendor_Name TEXT, \n",
    "    Category TEXT,\n",
    "    Contact_Person TEXT,\n",
    "    Email_Address TEXT,\n",
    "    Phone_Number TEXT,\n",
    "    Country TEXT,\n",
    "    Products/Services TEXT,\n",
    "    Contract_Start_Date DATE,\n",
    "    Contract_End_Date DATE,\n",
    "    Sustainability_Certification_(Y/N) TEXT,\n",
    "    notes TEXT\n",
    ")\n",
    "''')"
   ]
  },
  {
   "cell_type": "code",
   "execution_count": 487,
   "id": "8602a1fa-3216-4653-96a7-4ccfa1c5ee7d",
   "metadata": {},
   "outputs": [
    {
     "ename": "NameError",
     "evalue": "name 'vendors_data1' is not defined",
     "output_type": "error",
     "traceback": [
      "\u001b[0;31m---------------------------------------------------------------------------\u001b[0m",
      "\u001b[0;31mNameError\u001b[0m                                 Traceback (most recent call last)",
      "Cell \u001b[0;32mIn[487], line 4\u001b[0m\n\u001b[1;32m      1\u001b[0m cursor\u001b[38;5;241m.\u001b[39mexecutemany(\u001b[38;5;124m'''\u001b[39m\n\u001b[1;32m      2\u001b[0m \u001b[38;5;124mINSERT INTO vendors1 (vendor_id, vendor_name, category, contact_person, email, phone_number, country, products_services, contract_start_date, contract_end_date, sustainability_certification, rating)\u001b[39m\n\u001b[1;32m      3\u001b[0m \u001b[38;5;124mVALUES (?, ?, ?, ?, ?, ?, ?, ?, ?, ?, ?, ?)\u001b[39m\n\u001b[0;32m----> 4\u001b[0m \u001b[38;5;124m'''\u001b[39m, vendors_data1)\n",
      "\u001b[0;31mNameError\u001b[0m: name 'vendors_data1' is not defined"
     ]
    }
   ],
   "source": [
    "cursor.executemany('''INSERT INTO vendors (Vendor_ID, Vendor_Name, Category,Contact_Person,Email_Address,Phone_Number,Country,Products/Services,Contract_Start_Date,Contract_End_Date,Sustainability_Certification_(Y/N),Rating_(1-10))VALUES \n",
    "(?,?,?,?,?,?,?,?,?,?)''', vendors_data)"
   ]
  },
  {
   "cell_type": "code",
   "execution_count": null,
   "id": "30c6e9ce-dc09-4a90-a3d9-3924caa66a9a",
   "metadata": {},
   "outputs": [],
   "source": [
    "#Insert Data "
   ]
  },
  {
   "cell_type": "code",
   "execution_count": null,
   "id": "cb356e83-0da2-49a7-b28f-68aded750edd",
   "metadata": {},
   "outputs": [],
   "source": [
    "vendors_data = [\n",
    "    (1,'Green Energy Ltd','Renewable Energy','Anna Müller','amuller@greenenergy.com','+43 1 234 5678','Austria','Solar Panels, Wind Turbines','2023-01-15','2025-01-20','Y','10'),\n",
    "    (2,'Eco Supply GmbH','Raw Materials','Max Schmidt','mschmidt@ecosupply.com','+49 89 123 4567','Germany','Sustainable steel, recycled materials','2022-11-01','2024-11-01','Y','5'),\n",
    "    (3,'EarthTech Co.','Technology','Sarah Fischer','sfischer@earthtech.com','+1 312 789 1234','USA','Monitoring software, IoT solutions','2023-03-01','2026-03-01','Y','4'),\n",
    "    (4,'BioSolutions AG','Biodegradable','Lukas Weber','lweber@biosolutions.com','+41 44 987 6543','Switzerland','Biodegradable packaging materials','2022-07-20','2024-07-20','Y','7'),\n",
    "    (5,'WaterTech Ltd.','Water Management','Emily Smith','esmith@watertech.com','+44 20 1234 5678','UK','Water purification systems, pumps','2023-08-15','2026-08-15','N','9'),\n",
    "    (6,'Bio Planet GmbH','Batteries','Lukas Schmitt','lschmitt@bioplanet.com','+43 1 345 6790','Austria','battery storage','2024-01-03','2028-02-13','Y','10')\n",
    "]"
   ]
  },
  {
   "cell_type": "code",
   "execution_count": null,
   "id": "b538c6b5-cce2-4f17-b504-ff63a02f2435",
   "metadata": {},
   "outputs": [],
   "source": [
    "#Commit and close "
   ]
  },
  {
   "cell_type": "code",
   "execution_count": null,
   "id": "7fb7c363-a3b0-45c4-a9c9-87fe80fa4858",
   "metadata": {},
   "outputs": [],
   "source": [
    "conn.commit()"
   ]
  },
  {
   "cell_type": "code",
   "execution_count": null,
   "id": "c4fc02b6-461f-4ba1-a5b2-5217f5b3db37",
   "metadata": {},
   "outputs": [],
   "source": [
    "conn.close()"
   ]
  },
  {
   "cell_type": "code",
   "execution_count": null,
   "id": "f6d2596b-9068-49f7-ac5e-6b3cc53c34f2",
   "metadata": {},
   "outputs": [],
   "source": [
    "print('Database sucessfully created')"
   ]
  },
  {
   "cell_type": "code",
   "execution_count": null,
   "id": "d5899775-888b-4d4e-b332-5586e1d7e092",
   "metadata": {},
   "outputs": [],
   "source": []
  },
  {
   "cell_type": "code",
   "execution_count": null,
   "id": "41d1a758-1488-41a3-b937-2dc5ede87edf",
   "metadata": {},
   "outputs": [],
   "source": []
  },
  {
   "cell_type": "code",
   "execution_count": null,
   "id": "f7a9c578-6aae-4562-8278-fe7a80ff5df0",
   "metadata": {},
   "outputs": [],
   "source": []
  },
  {
   "cell_type": "code",
   "execution_count": null,
   "id": "e413fc6d-26bc-43f2-8c59-8caf64cf7878",
   "metadata": {},
   "outputs": [],
   "source": []
  }
 ],
 "metadata": {
  "kernelspec": {
   "display_name": "Python 3 (ipykernel)",
   "language": "python",
   "name": "python3"
  },
  "language_info": {
   "codemirror_mode": {
    "name": "ipython",
    "version": 3
   },
   "file_extension": ".py",
   "mimetype": "text/x-python",
   "name": "python",
   "nbconvert_exporter": "python",
   "pygments_lexer": "ipython3",
   "version": "3.11.7"
  }
 },
 "nbformat": 4,
 "nbformat_minor": 5
}
